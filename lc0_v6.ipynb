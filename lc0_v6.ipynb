{
  "nbformat": 4,
  "nbformat_minor": 0,
  "metadata": {
    "colab": {
      "name": "lc0_v6.ipynb",
      "version": "0.3.2",
      "provenance": [],
      "collapsed_sections": [],
      "include_colab_link": true
    },
    "kernelspec": {
      "name": "python3",
      "display_name": "Python 3"
    },
    "accelerator": "GPU"
  },
  "cells": [
    {
      "cell_type": "markdown",
      "metadata": {
        "id": "view-in-github",
        "colab_type": "text"
      },
      "source": [
        "<a href=\"https://colab.research.google.com/github/antonymathewz/lc0/blob/master/lc0_v6.ipynb\" target=\"_parent\"><img src=\"https://colab.research.google.com/assets/colab-badge.svg\" alt=\"Open In Colab\"/></a>"
      ]
    },
    {
      "cell_type": "code",
      "metadata": {
        "id": "d2vjlytJVcsX",
        "colab_type": "code",
        "colab": {}
      },
      "source": [
        "import subprocess\n",
        "if subprocess.run([\"nvidia-smi\", \"-L\"]).returncode != 0:\n",
        "  assert False, \"No GPU available!\""
      ],
      "execution_count": 0,
      "outputs": []
    },
    {
      "cell_type": "code",
      "metadata": {
        "id": "Ynk3P9K9CjlB",
        "colab_type": "code",
        "colab": {}
      },
      "source": [
        "!apt-get update\n",
        "!apt-get install -y --fix-missing --no-install-recommends cuda-compiler-10-1 cuda-cublas-dev-10-0 cuda-cudart-dev-10-1"
      ],
      "execution_count": 0,
      "outputs": []
    },
    {
      "cell_type": "code",
      "metadata": {
        "id": "6olv9DyoULkh",
        "colab_type": "code",
        "colab": {}
      },
      "source": [
        "!wget http://developer.download.nvidia.com/compute/redist/cudnn/v7.3.1/cudnn-10.0-linux-x64-v7.3.1.20.tgz\n",
        "!cd /usr/local && tar -xzvf /content/cudnn-10.0-linux-x64-v7.3.1.20.tgz\n",
        "!chmod a+r /usr/local/cuda/lib64/libcudnn*"
      ],
      "execution_count": 0,
      "outputs": []
    },
    {
      "cell_type": "code",
      "metadata": {
        "id": "rmojCL1-Co6U",
        "colab_type": "code",
        "colab": {}
      },
      "source": [
        "!apt-get install ninja-build libprotobuf-dev protobuf-compiler\n",
        "!pip3 install meson"
      ],
      "execution_count": 0,
      "outputs": []
    },
    {
      "cell_type": "code",
      "metadata": {
        "id": "vwt",
        "colab_type": "code",
        "colab": {}
      },
      "source": [
        "!rm -rf lc0\n",
        "!git clone --recurse-submodules https://github.com/LeelaChessZero/lc0.git\n",
        "!cd lc0 && git checkout $(git tag --list |grep -v rc |tail -1)"
      ],
      "execution_count": 0,
      "outputs": []
    },
    {
      "cell_type": "code",
      "metadata": {
        "id": "vza",
        "colab_type": "code",
        "colab": {}
      },
      "source": [
        "!cd lc0 && rm -rf build\n",
        "!cd lc0 && meson build --buildtype release -Db_lto=true -Dgtest=false\n",
        "!cd lc0/build && ninja"
      ],
      "execution_count": 0,
      "outputs": []
    },
    {
      "cell_type": "code",
      "metadata": {
        "id": "1KBQeU45bq1d",
        "colab_type": "code",
        "colab": {}
      },
      "source": [
        "!rm lc0/build/client_linux\n",
        "!cd lc0/build && curl -s -L https://github.com/LeelaChessZero/lczero-client/releases/latest | egrep -o '/LeelaChessZero/lczero-client/releases/download/.*/client_linux' | head -n 1 | wget --base=https://github.com/ -i - -O client_linux && chmod +x client_linux"
      ],
      "execution_count": 0,
      "outputs": []
    },
    {
      "cell_type": "code",
      "metadata": {
        "id": "-BE3raVg30eR",
        "colab_type": "code",
        "cellView": "both",
        "colab": {}
      },
      "source": [
        "#@title\n",
        "!cd lc0/build && ./client_linux --user 'NATURA BETHI' --password 'dirclsdircls1'"
      ],
      "execution_count": 0,
      "outputs": []
    }
  ]
}